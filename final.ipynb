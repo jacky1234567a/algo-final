{
 "cells": [
  {
   "cell_type": "code",
   "execution_count": 1,
   "id": "8d8cb67b",
   "metadata": {},
   "outputs": [
    {
     "name": "stdout",
     "output_type": "stream",
     "text": [
      "Minimum expected cost of search time: 2.68\n",
      "Optimal binary search tree structure:\n",
      "  7\n",
      "    6\n",
      "5\n",
      "      4\n",
      "    3\n",
      "  2\n",
      "    1\n"
     ]
    }
   ],
   "source": [
    "class Node:\n",
    "    def __init__(self, key):\n",
    "        self.key = key\n",
    "        self.left = None\n",
    "        self.right = None\n",
    "\n",
    "\n",
    "def optimal_bst(p, q):\n",
    "    n = len(p) - 1\n",
    "    C = [[0] * (n + 2) for _ in range(n + 2)]\n",
    "    W = [[0] * (n + 2) for _ in range(n + 2)]\n",
    "    root = [[0] * (n + 1) for _ in range(n + 1)]\n",
    "\n",
    "    for i in range(1, n + 2):\n",
    "        C[i][i - 1] = 0\n",
    "        W[i][i - 1] = q[i - 1]\n",
    "\n",
    "    for l in range(1, n + 1):\n",
    "        for i in range(1, n - l + 2):\n",
    "            j = i + l - 1\n",
    "            C[i][j] = float('inf')\n",
    "            W[i][j] = W[i][j - 1] + p[j] + q[j]\n",
    "            for r in range(i, j + 1):\n",
    "                cost = C[i][r - 1] + C[r + 1][j] + W[i][j]\n",
    "                if cost < C[i][j]:\n",
    "                    C[i][j] = cost\n",
    "                    root[i][j] = r\n",
    "\n",
    "    return C[1][n], construct_tree(root, 1, n)\n",
    "\n",
    "\n",
    "def construct_tree(root, i, j):\n",
    "    if i > j:\n",
    "        return None\n",
    "    if i == j:\n",
    "        return Node(root[i][j])\n",
    "    node = Node(root[i][j])\n",
    "    node.left = construct_tree(root, i, root[i][j] - 1)\n",
    "    node.right = construct_tree(root, root[i][j] + 1, j)\n",
    "    return node\n",
    "\n",
    "\n",
    "def print_tree(node, level=0):\n",
    "    if node is None:\n",
    "        return\n",
    "    print_tree(node.right, level + 1)\n",
    "    print(\"  \" * level + str(node.key))\n",
    "    print_tree(node.left, level + 1)\n",
    "\n",
    "\n",
    "# Example usage:\n",
    "p = [0, 0.04, 0.06, 0.08, 0.02, 0.10, 0.12, 0.14]\n",
    "q = [0.06, 0.06, 0.06, 0.06, 0.05, 0.05, 0.05, 0.05]\n",
    "\n",
    "cost, tree = optimal_bst(p, q)\n",
    "print(\"Minimum expected cost of search time:\", cost)\n",
    "print(\"Optimal binary search tree structure:\")\n",
    "print_tree(tree)"
   ]
  },
  {
   "cell_type": "code",
   "execution_count": null,
   "id": "7f2a4547",
   "metadata": {},
   "outputs": [],
   "source": []
  }
 ],
 "metadata": {
  "kernelspec": {
   "display_name": "Python 3 (ipykernel)",
   "language": "python",
   "name": "python3"
  },
  "language_info": {
   "codemirror_mode": {
    "name": "ipython",
    "version": 3
   },
   "file_extension": ".py",
   "mimetype": "text/x-python",
   "name": "python",
   "nbconvert_exporter": "python",
   "pygments_lexer": "ipython3",
   "version": "3.9.12"
  }
 },
 "nbformat": 4,
 "nbformat_minor": 5
}
